{
 "cells": [
  {
   "cell_type": "markdown",
   "id": "956afdca",
   "metadata": {},
   "source": [
    "## Importing all required libraries"
   ]
  },
  {
   "cell_type": "code",
   "execution_count": 1,
   "id": "cf8800dc",
   "metadata": {},
   "outputs": [],
   "source": [
    "import pandas as pd\n",
    "import numpy as np\n",
    "import math\n",
    "from matplotlib import pyplot as plt"
   ]
  },
  {
   "cell_type": "markdown",
   "id": "bea886aa",
   "metadata": {},
   "source": [
    "## About Dataset"
   ]
  },
  {
   "cell_type": "markdown",
   "id": "b0f6273a",
   "metadata": {},
   "source": [
    "Data Set Information:\n",
    "\n",
    "The market historical data set of real estate valuation are collected from Sindian Dist., New Taipei City, Taiwan. The â€œreal estate valuation is a regression problem. The data set was randomly split into the training data set (2/3 samples) and the testing data set (1/3 samples).\n",
    "\n",
    "\n",
    "Attribute Information:\n",
    "\n",
    "The inputs are as follows\n",
    "- X1 = the transaction date (for example, 2013.250=2013 March, 2013.500=2013 June, etc.)\n",
    "- X2 = the house age (unit: year)\n",
    "- X3 = the distance to the nearest MRT station (unit: meter)\n",
    "- X4 = the number of convenience stores in the living circle on foot (integer)\n",
    "- X5 = the geographic coordinate, latitude. (unit: degree)\n",
    "- X6 = the geographic coordinate, longitude. (unit: degree)\n",
    "\n",
    "The output is as follow\n",
    "Y= house price of unit area (10000 New Taiwan Dollar/Ping, where Ping is a local unit, 1 Ping = 3.3 meter squared)\n",
    "\n",
    "Link to dataset: https://archive.ics.uci.edu/ml/datasets/Real+estate+valuation+data+set\n"
   ]
  },
  {
   "cell_type": "markdown",
   "id": "1f524e9c",
   "metadata": {},
   "source": [
    "### Reading the dataset"
   ]
  },
  {
   "cell_type": "code",
   "execution_count": 2,
   "id": "03ed9490",
   "metadata": {},
   "outputs": [],
   "source": [
    "dataset = pd.read_excel('Real estate valuation data set.xlsx', names = ['transaction date',\n",
    "                                                                         'house age',\n",
    "                                                                         'distance to the nearest MRT station',\n",
    "                                                                         'number of convenience stores',\n",
    "                                                                         'latitude',\n",
    "                                                                         'longitude',\n",
    "                                                                         'house price of unit area'])"
   ]
  },
  {
   "cell_type": "code",
   "execution_count": 3,
   "id": "ec9592c8",
   "metadata": {},
   "outputs": [
    {
     "data": {
      "text/html": [
       "<div>\n",
       "<style scoped>\n",
       "    .dataframe tbody tr th:only-of-type {\n",
       "        vertical-align: middle;\n",
       "    }\n",
       "\n",
       "    .dataframe tbody tr th {\n",
       "        vertical-align: top;\n",
       "    }\n",
       "\n",
       "    .dataframe thead th {\n",
       "        text-align: right;\n",
       "    }\n",
       "</style>\n",
       "<table border=\"1\" class=\"dataframe\">\n",
       "  <thead>\n",
       "    <tr style=\"text-align: right;\">\n",
       "      <th></th>\n",
       "      <th>transaction date</th>\n",
       "      <th>house age</th>\n",
       "      <th>distance to the nearest MRT station</th>\n",
       "      <th>number of convenience stores</th>\n",
       "      <th>latitude</th>\n",
       "      <th>longitude</th>\n",
       "      <th>house price of unit area</th>\n",
       "    </tr>\n",
       "  </thead>\n",
       "  <tbody>\n",
       "    <tr>\n",
       "      <th>1</th>\n",
       "      <td>2012.916667</td>\n",
       "      <td>32.0</td>\n",
       "      <td>84.87882</td>\n",
       "      <td>10</td>\n",
       "      <td>24.98298</td>\n",
       "      <td>121.54024</td>\n",
       "      <td>37.9</td>\n",
       "    </tr>\n",
       "    <tr>\n",
       "      <th>2</th>\n",
       "      <td>2012.916667</td>\n",
       "      <td>19.5</td>\n",
       "      <td>306.59470</td>\n",
       "      <td>9</td>\n",
       "      <td>24.98034</td>\n",
       "      <td>121.53951</td>\n",
       "      <td>42.2</td>\n",
       "    </tr>\n",
       "    <tr>\n",
       "      <th>3</th>\n",
       "      <td>2013.583333</td>\n",
       "      <td>13.3</td>\n",
       "      <td>561.98450</td>\n",
       "      <td>5</td>\n",
       "      <td>24.98746</td>\n",
       "      <td>121.54391</td>\n",
       "      <td>47.3</td>\n",
       "    </tr>\n",
       "    <tr>\n",
       "      <th>4</th>\n",
       "      <td>2013.500000</td>\n",
       "      <td>13.3</td>\n",
       "      <td>561.98450</td>\n",
       "      <td>5</td>\n",
       "      <td>24.98746</td>\n",
       "      <td>121.54391</td>\n",
       "      <td>54.8</td>\n",
       "    </tr>\n",
       "    <tr>\n",
       "      <th>5</th>\n",
       "      <td>2012.833333</td>\n",
       "      <td>5.0</td>\n",
       "      <td>390.56840</td>\n",
       "      <td>5</td>\n",
       "      <td>24.97937</td>\n",
       "      <td>121.54245</td>\n",
       "      <td>43.1</td>\n",
       "    </tr>\n",
       "  </tbody>\n",
       "</table>\n",
       "</div>"
      ],
      "text/plain": [
       "   transaction date  house age  distance to the nearest MRT station  \\\n",
       "1       2012.916667       32.0                             84.87882   \n",
       "2       2012.916667       19.5                            306.59470   \n",
       "3       2013.583333       13.3                            561.98450   \n",
       "4       2013.500000       13.3                            561.98450   \n",
       "5       2012.833333        5.0                            390.56840   \n",
       "\n",
       "   number of convenience stores  latitude  longitude  house price of unit area  \n",
       "1                            10  24.98298  121.54024                      37.9  \n",
       "2                             9  24.98034  121.53951                      42.2  \n",
       "3                             5  24.98746  121.54391                      47.3  \n",
       "4                             5  24.98746  121.54391                      54.8  \n",
       "5                             5  24.97937  121.54245                      43.1  "
      ]
     },
     "execution_count": 3,
     "metadata": {},
     "output_type": "execute_result"
    }
   ],
   "source": [
    "dataset.head()"
   ]
  },
  {
   "cell_type": "code",
   "execution_count": 4,
   "id": "d89e31a3",
   "metadata": {},
   "outputs": [
    {
     "data": {
      "text/html": [
       "<div>\n",
       "<style scoped>\n",
       "    .dataframe tbody tr th:only-of-type {\n",
       "        vertical-align: middle;\n",
       "    }\n",
       "\n",
       "    .dataframe tbody tr th {\n",
       "        vertical-align: top;\n",
       "    }\n",
       "\n",
       "    .dataframe thead th {\n",
       "        text-align: right;\n",
       "    }\n",
       "</style>\n",
       "<table border=\"1\" class=\"dataframe\">\n",
       "  <thead>\n",
       "    <tr style=\"text-align: right;\">\n",
       "      <th></th>\n",
       "      <th>transaction date</th>\n",
       "      <th>house age</th>\n",
       "      <th>distance to the nearest MRT station</th>\n",
       "      <th>number of convenience stores</th>\n",
       "      <th>latitude</th>\n",
       "      <th>longitude</th>\n",
       "      <th>house price of unit area</th>\n",
       "    </tr>\n",
       "  </thead>\n",
       "  <tbody>\n",
       "    <tr>\n",
       "      <th>410</th>\n",
       "      <td>2013.000000</td>\n",
       "      <td>13.7</td>\n",
       "      <td>4082.01500</td>\n",
       "      <td>0</td>\n",
       "      <td>24.94155</td>\n",
       "      <td>121.50381</td>\n",
       "      <td>15.4</td>\n",
       "    </tr>\n",
       "    <tr>\n",
       "      <th>411</th>\n",
       "      <td>2012.666667</td>\n",
       "      <td>5.6</td>\n",
       "      <td>90.45606</td>\n",
       "      <td>9</td>\n",
       "      <td>24.97433</td>\n",
       "      <td>121.54310</td>\n",
       "      <td>50.0</td>\n",
       "    </tr>\n",
       "    <tr>\n",
       "      <th>412</th>\n",
       "      <td>2013.250000</td>\n",
       "      <td>18.8</td>\n",
       "      <td>390.96960</td>\n",
       "      <td>7</td>\n",
       "      <td>24.97923</td>\n",
       "      <td>121.53986</td>\n",
       "      <td>40.6</td>\n",
       "    </tr>\n",
       "    <tr>\n",
       "      <th>413</th>\n",
       "      <td>2013.000000</td>\n",
       "      <td>8.1</td>\n",
       "      <td>104.81010</td>\n",
       "      <td>5</td>\n",
       "      <td>24.96674</td>\n",
       "      <td>121.54067</td>\n",
       "      <td>52.5</td>\n",
       "    </tr>\n",
       "    <tr>\n",
       "      <th>414</th>\n",
       "      <td>2013.500000</td>\n",
       "      <td>6.5</td>\n",
       "      <td>90.45606</td>\n",
       "      <td>9</td>\n",
       "      <td>24.97433</td>\n",
       "      <td>121.54310</td>\n",
       "      <td>63.9</td>\n",
       "    </tr>\n",
       "  </tbody>\n",
       "</table>\n",
       "</div>"
      ],
      "text/plain": [
       "     transaction date  house age  distance to the nearest MRT station  \\\n",
       "410       2013.000000       13.7                           4082.01500   \n",
       "411       2012.666667        5.6                             90.45606   \n",
       "412       2013.250000       18.8                            390.96960   \n",
       "413       2013.000000        8.1                            104.81010   \n",
       "414       2013.500000        6.5                             90.45606   \n",
       "\n",
       "     number of convenience stores  latitude  longitude  \\\n",
       "410                             0  24.94155  121.50381   \n",
       "411                             9  24.97433  121.54310   \n",
       "412                             7  24.97923  121.53986   \n",
       "413                             5  24.96674  121.54067   \n",
       "414                             9  24.97433  121.54310   \n",
       "\n",
       "     house price of unit area  \n",
       "410                      15.4  \n",
       "411                      50.0  \n",
       "412                      40.6  \n",
       "413                      52.5  \n",
       "414                      63.9  "
      ]
     },
     "execution_count": 4,
     "metadata": {},
     "output_type": "execute_result"
    }
   ],
   "source": [
    "dataset.tail()"
   ]
  },
  {
   "cell_type": "markdown",
   "id": "e547e289",
   "metadata": {},
   "source": [
    "## Preprocessing the dataset"
   ]
  },
  {
   "cell_type": "code",
   "execution_count": 5,
   "id": "07ecc496",
   "metadata": {},
   "outputs": [
    {
     "data": {
      "text/plain": [
       "array([2012.9166667, 2013.5833333, 2013.5      , 2012.8333333,\n",
       "       2012.6666667, 2013.4166667, 2013.0833333, 2013.3333333,\n",
       "       2013.25     , 2012.75     , 2013.       , 2013.1666667])"
      ]
     },
     "execution_count": 5,
     "metadata": {},
     "output_type": "execute_result"
    }
   ],
   "source": [
    "dataset['transaction date'].unique()"
   ]
  },
  {
   "cell_type": "markdown",
   "id": "a8a9f394",
   "metadata": {},
   "source": [
    "In above output as we can see, `2013.0833333` and `2012.8333333`, the *zero* seems to be a human error which needs to be handled."
   ]
  },
  {
   "cell_type": "code",
   "execution_count": 6,
   "id": "b732556c",
   "metadata": {},
   "outputs": [
    {
     "data": {
      "text/plain": [
       "array([2012.9166667, 2013.5833333, 2013.5      , 2012.8333333,\n",
       "       2012.6666667, 2013.4166667, 2013.8333333, 2013.3333333,\n",
       "       2013.25     , 2012.75     , 2013.       , 2013.1666667])"
      ]
     },
     "execution_count": 6,
     "metadata": {},
     "output_type": "execute_result"
    }
   ],
   "source": [
    "dataset['transaction date'] = dataset['transaction date'].replace(2013.0833333, 2013.8333333)\n",
    "dataset['transaction date'].unique()"
   ]
  },
  {
   "cell_type": "markdown",
   "id": "13e64ca8",
   "metadata": {},
   "source": [
    "**Separating year and month to two different columns**"
   ]
  },
  {
   "cell_type": "code",
   "execution_count": 8,
   "id": "9f01a5d9",
   "metadata": {},
   "outputs": [],
   "source": [
    "def get_transaction_month(x):\n",
    "    x = int(str(x).split('.')[1]) * 12\n",
    "    if x == 0:\n",
    "        return 1\n",
    "    x = math.ceil(x / 10)\n",
    "    if int(str(x)[0]) > 1:\n",
    "        return int(str(x)[0])\n",
    "    else:\n",
    "        return int(str(x)[:2])"
   ]
  },
  {
   "cell_type": "code",
   "execution_count": 9,
   "id": "90f3c6b4",
   "metadata": {},
   "outputs": [
    {
     "name": "stdout",
     "output_type": "stream",
     "text": [
      "11 10 7 6 8 5 3 9 1 2\n"
     ]
    }
   ],
   "source": [
    "# trial cases\n",
    "print(get_transaction_month(2012.916667),\n",
    "get_transaction_month(2012.833333),\n",
    "get_transaction_month(2013.5833333),\n",
    "get_transaction_month(2013.500000),\n",
    "get_transaction_month(2012.6666667),\n",
    "get_transaction_month(2013.4166667),\n",
    "get_transaction_month(2013.250000),\n",
    "get_transaction_month(2013.750000),\n",
    "get_transaction_month(2013.000000),\n",
    "get_transaction_month(2013.1666667))"
   ]
  },
  {
   "cell_type": "code",
   "execution_count": 10,
   "id": "79fdedce",
   "metadata": {},
   "outputs": [],
   "source": [
    "dataset['year'] = dataset['transaction date'].apply(lambda x : str(x).split('.')[0])\n",
    "dataset['month'] = dataset['transaction date'].apply(lambda x : get_transaction_month(x))"
   ]
  },
  {
   "cell_type": "markdown",
   "id": "883f21a9",
   "metadata": {},
   "source": [
    "**Checking the dataset and for null values**"
   ]
  },
  {
   "cell_type": "code",
   "execution_count": 11,
   "id": "a8d0ab82",
   "metadata": {},
   "outputs": [
    {
     "name": "stdout",
     "output_type": "stream",
     "text": [
      "<class 'pandas.core.frame.DataFrame'>\n",
      "Int64Index: 414 entries, 1 to 414\n",
      "Data columns (total 9 columns):\n",
      " #   Column                               Non-Null Count  Dtype  \n",
      "---  ------                               --------------  -----  \n",
      " 0   transaction date                     414 non-null    float64\n",
      " 1   house age                            414 non-null    float64\n",
      " 2   distance to the nearest MRT station  414 non-null    float64\n",
      " 3   number of convenience stores         414 non-null    int64  \n",
      " 4   latitude                             414 non-null    float64\n",
      " 5   longitude                            414 non-null    float64\n",
      " 6   house price of unit area             414 non-null    float64\n",
      " 7   year                                 414 non-null    object \n",
      " 8   month                                414 non-null    int64  \n",
      "dtypes: float64(6), int64(2), object(1)\n",
      "memory usage: 32.3+ KB\n"
     ]
    }
   ],
   "source": [
    "dataset.info()"
   ]
  },
  {
   "cell_type": "code",
   "execution_count": 12,
   "id": "921c14bf",
   "metadata": {},
   "outputs": [
    {
     "data": {
      "text/html": [
       "<div>\n",
       "<style scoped>\n",
       "    .dataframe tbody tr th:only-of-type {\n",
       "        vertical-align: middle;\n",
       "    }\n",
       "\n",
       "    .dataframe tbody tr th {\n",
       "        vertical-align: top;\n",
       "    }\n",
       "\n",
       "    .dataframe thead th {\n",
       "        text-align: right;\n",
       "    }\n",
       "</style>\n",
       "<table border=\"1\" class=\"dataframe\">\n",
       "  <thead>\n",
       "    <tr style=\"text-align: right;\">\n",
       "      <th></th>\n",
       "      <th>transaction date</th>\n",
       "      <th>house age</th>\n",
       "      <th>distance to the nearest MRT station</th>\n",
       "      <th>number of convenience stores</th>\n",
       "      <th>latitude</th>\n",
       "      <th>longitude</th>\n",
       "      <th>house price of unit area</th>\n",
       "      <th>year</th>\n",
       "      <th>month</th>\n",
       "    </tr>\n",
       "  </thead>\n",
       "  <tbody>\n",
       "    <tr>\n",
       "      <th>1</th>\n",
       "      <td>2012.916667</td>\n",
       "      <td>32.0</td>\n",
       "      <td>84.87882</td>\n",
       "      <td>10</td>\n",
       "      <td>24.98298</td>\n",
       "      <td>121.54024</td>\n",
       "      <td>37.9</td>\n",
       "      <td>2012</td>\n",
       "      <td>11</td>\n",
       "    </tr>\n",
       "    <tr>\n",
       "      <th>2</th>\n",
       "      <td>2012.916667</td>\n",
       "      <td>19.5</td>\n",
       "      <td>306.59470</td>\n",
       "      <td>9</td>\n",
       "      <td>24.98034</td>\n",
       "      <td>121.53951</td>\n",
       "      <td>42.2</td>\n",
       "      <td>2012</td>\n",
       "      <td>11</td>\n",
       "    </tr>\n",
       "    <tr>\n",
       "      <th>3</th>\n",
       "      <td>2013.583333</td>\n",
       "      <td>13.3</td>\n",
       "      <td>561.98450</td>\n",
       "      <td>5</td>\n",
       "      <td>24.98746</td>\n",
       "      <td>121.54391</td>\n",
       "      <td>47.3</td>\n",
       "      <td>2013</td>\n",
       "      <td>7</td>\n",
       "    </tr>\n",
       "    <tr>\n",
       "      <th>4</th>\n",
       "      <td>2013.500000</td>\n",
       "      <td>13.3</td>\n",
       "      <td>561.98450</td>\n",
       "      <td>5</td>\n",
       "      <td>24.98746</td>\n",
       "      <td>121.54391</td>\n",
       "      <td>54.8</td>\n",
       "      <td>2013</td>\n",
       "      <td>6</td>\n",
       "    </tr>\n",
       "    <tr>\n",
       "      <th>5</th>\n",
       "      <td>2012.833333</td>\n",
       "      <td>5.0</td>\n",
       "      <td>390.56840</td>\n",
       "      <td>5</td>\n",
       "      <td>24.97937</td>\n",
       "      <td>121.54245</td>\n",
       "      <td>43.1</td>\n",
       "      <td>2012</td>\n",
       "      <td>10</td>\n",
       "    </tr>\n",
       "  </tbody>\n",
       "</table>\n",
       "</div>"
      ],
      "text/plain": [
       "   transaction date  house age  distance to the nearest MRT station  \\\n",
       "1       2012.916667       32.0                             84.87882   \n",
       "2       2012.916667       19.5                            306.59470   \n",
       "3       2013.583333       13.3                            561.98450   \n",
       "4       2013.500000       13.3                            561.98450   \n",
       "5       2012.833333        5.0                            390.56840   \n",
       "\n",
       "   number of convenience stores  latitude  longitude  \\\n",
       "1                            10  24.98298  121.54024   \n",
       "2                             9  24.98034  121.53951   \n",
       "3                             5  24.98746  121.54391   \n",
       "4                             5  24.98746  121.54391   \n",
       "5                             5  24.97937  121.54245   \n",
       "\n",
       "   house price of unit area  year  month  \n",
       "1                      37.9  2012     11  \n",
       "2                      42.2  2012     11  \n",
       "3                      47.3  2013      7  \n",
       "4                      54.8  2013      6  \n",
       "5                      43.1  2012     10  "
      ]
     },
     "execution_count": 12,
     "metadata": {},
     "output_type": "execute_result"
    }
   ],
   "source": [
    "dataset.head()"
   ]
  },
  {
   "cell_type": "code",
   "execution_count": 13,
   "id": "7a534e0e",
   "metadata": {},
   "outputs": [],
   "source": [
    "dataset = dataset.iloc[:,[7,8,1,2,3,4,5,6]] #Rearranging the columns and removing 'transaction date'"
   ]
  },
  {
   "cell_type": "code",
   "execution_count": 14,
   "id": "b061ab8c",
   "metadata": {},
   "outputs": [
    {
     "data": {
      "text/html": [
       "<div>\n",
       "<style scoped>\n",
       "    .dataframe tbody tr th:only-of-type {\n",
       "        vertical-align: middle;\n",
       "    }\n",
       "\n",
       "    .dataframe tbody tr th {\n",
       "        vertical-align: top;\n",
       "    }\n",
       "\n",
       "    .dataframe thead th {\n",
       "        text-align: right;\n",
       "    }\n",
       "</style>\n",
       "<table border=\"1\" class=\"dataframe\">\n",
       "  <thead>\n",
       "    <tr style=\"text-align: right;\">\n",
       "      <th></th>\n",
       "      <th>year</th>\n",
       "      <th>month</th>\n",
       "      <th>house age</th>\n",
       "      <th>distance to the nearest MRT station</th>\n",
       "      <th>number of convenience stores</th>\n",
       "      <th>latitude</th>\n",
       "      <th>longitude</th>\n",
       "      <th>house price of unit area</th>\n",
       "    </tr>\n",
       "  </thead>\n",
       "  <tbody>\n",
       "    <tr>\n",
       "      <th>1</th>\n",
       "      <td>2012</td>\n",
       "      <td>11</td>\n",
       "      <td>32.0</td>\n",
       "      <td>84.87882</td>\n",
       "      <td>10</td>\n",
       "      <td>24.98298</td>\n",
       "      <td>121.54024</td>\n",
       "      <td>37.9</td>\n",
       "    </tr>\n",
       "    <tr>\n",
       "      <th>2</th>\n",
       "      <td>2012</td>\n",
       "      <td>11</td>\n",
       "      <td>19.5</td>\n",
       "      <td>306.59470</td>\n",
       "      <td>9</td>\n",
       "      <td>24.98034</td>\n",
       "      <td>121.53951</td>\n",
       "      <td>42.2</td>\n",
       "    </tr>\n",
       "    <tr>\n",
       "      <th>3</th>\n",
       "      <td>2013</td>\n",
       "      <td>7</td>\n",
       "      <td>13.3</td>\n",
       "      <td>561.98450</td>\n",
       "      <td>5</td>\n",
       "      <td>24.98746</td>\n",
       "      <td>121.54391</td>\n",
       "      <td>47.3</td>\n",
       "    </tr>\n",
       "    <tr>\n",
       "      <th>4</th>\n",
       "      <td>2013</td>\n",
       "      <td>6</td>\n",
       "      <td>13.3</td>\n",
       "      <td>561.98450</td>\n",
       "      <td>5</td>\n",
       "      <td>24.98746</td>\n",
       "      <td>121.54391</td>\n",
       "      <td>54.8</td>\n",
       "    </tr>\n",
       "    <tr>\n",
       "      <th>5</th>\n",
       "      <td>2012</td>\n",
       "      <td>10</td>\n",
       "      <td>5.0</td>\n",
       "      <td>390.56840</td>\n",
       "      <td>5</td>\n",
       "      <td>24.97937</td>\n",
       "      <td>121.54245</td>\n",
       "      <td>43.1</td>\n",
       "    </tr>\n",
       "  </tbody>\n",
       "</table>\n",
       "</div>"
      ],
      "text/plain": [
       "   year  month  house age  distance to the nearest MRT station  \\\n",
       "1  2012     11       32.0                             84.87882   \n",
       "2  2012     11       19.5                            306.59470   \n",
       "3  2013      7       13.3                            561.98450   \n",
       "4  2013      6       13.3                            561.98450   \n",
       "5  2012     10        5.0                            390.56840   \n",
       "\n",
       "   number of convenience stores  latitude  longitude  house price of unit area  \n",
       "1                            10  24.98298  121.54024                      37.9  \n",
       "2                             9  24.98034  121.53951                      42.2  \n",
       "3                             5  24.98746  121.54391                      47.3  \n",
       "4                             5  24.98746  121.54391                      54.8  \n",
       "5                             5  24.97937  121.54245                      43.1  "
      ]
     },
     "execution_count": 14,
     "metadata": {},
     "output_type": "execute_result"
    }
   ],
   "source": [
    "dataset.head()"
   ]
  },
  {
   "cell_type": "markdown",
   "id": "bdc0389e",
   "metadata": {},
   "source": [
    "### Dataframe to numpy for model training"
   ]
  },
  {
   "cell_type": "code",
   "execution_count": 15,
   "id": "09b16dbe",
   "metadata": {},
   "outputs": [],
   "source": [
    "X = dataset.iloc[:, :-1]\n",
    "y = dataset['house price of unit area']"
   ]
  },
  {
   "cell_type": "code",
   "execution_count": 16,
   "id": "f1d35edf",
   "metadata": {},
   "outputs": [
    {
     "data": {
      "text/html": [
       "<div>\n",
       "<style scoped>\n",
       "    .dataframe tbody tr th:only-of-type {\n",
       "        vertical-align: middle;\n",
       "    }\n",
       "\n",
       "    .dataframe tbody tr th {\n",
       "        vertical-align: top;\n",
       "    }\n",
       "\n",
       "    .dataframe thead th {\n",
       "        text-align: right;\n",
       "    }\n",
       "</style>\n",
       "<table border=\"1\" class=\"dataframe\">\n",
       "  <thead>\n",
       "    <tr style=\"text-align: right;\">\n",
       "      <th></th>\n",
       "      <th>year</th>\n",
       "      <th>month</th>\n",
       "      <th>house age</th>\n",
       "      <th>distance to the nearest MRT station</th>\n",
       "      <th>number of convenience stores</th>\n",
       "      <th>latitude</th>\n",
       "      <th>longitude</th>\n",
       "    </tr>\n",
       "  </thead>\n",
       "  <tbody>\n",
       "    <tr>\n",
       "      <th>1</th>\n",
       "      <td>2012</td>\n",
       "      <td>11</td>\n",
       "      <td>32.0</td>\n",
       "      <td>84.87882</td>\n",
       "      <td>10</td>\n",
       "      <td>24.98298</td>\n",
       "      <td>121.54024</td>\n",
       "    </tr>\n",
       "    <tr>\n",
       "      <th>2</th>\n",
       "      <td>2012</td>\n",
       "      <td>11</td>\n",
       "      <td>19.5</td>\n",
       "      <td>306.59470</td>\n",
       "      <td>9</td>\n",
       "      <td>24.98034</td>\n",
       "      <td>121.53951</td>\n",
       "    </tr>\n",
       "    <tr>\n",
       "      <th>3</th>\n",
       "      <td>2013</td>\n",
       "      <td>7</td>\n",
       "      <td>13.3</td>\n",
       "      <td>561.98450</td>\n",
       "      <td>5</td>\n",
       "      <td>24.98746</td>\n",
       "      <td>121.54391</td>\n",
       "    </tr>\n",
       "    <tr>\n",
       "      <th>4</th>\n",
       "      <td>2013</td>\n",
       "      <td>6</td>\n",
       "      <td>13.3</td>\n",
       "      <td>561.98450</td>\n",
       "      <td>5</td>\n",
       "      <td>24.98746</td>\n",
       "      <td>121.54391</td>\n",
       "    </tr>\n",
       "    <tr>\n",
       "      <th>5</th>\n",
       "      <td>2012</td>\n",
       "      <td>10</td>\n",
       "      <td>5.0</td>\n",
       "      <td>390.56840</td>\n",
       "      <td>5</td>\n",
       "      <td>24.97937</td>\n",
       "      <td>121.54245</td>\n",
       "    </tr>\n",
       "  </tbody>\n",
       "</table>\n",
       "</div>"
      ],
      "text/plain": [
       "   year  month  house age  distance to the nearest MRT station  \\\n",
       "1  2012     11       32.0                             84.87882   \n",
       "2  2012     11       19.5                            306.59470   \n",
       "3  2013      7       13.3                            561.98450   \n",
       "4  2013      6       13.3                            561.98450   \n",
       "5  2012     10        5.0                            390.56840   \n",
       "\n",
       "   number of convenience stores  latitude  longitude  \n",
       "1                            10  24.98298  121.54024  \n",
       "2                             9  24.98034  121.53951  \n",
       "3                             5  24.98746  121.54391  \n",
       "4                             5  24.98746  121.54391  \n",
       "5                             5  24.97937  121.54245  "
      ]
     },
     "execution_count": 16,
     "metadata": {},
     "output_type": "execute_result"
    }
   ],
   "source": [
    "X.head()"
   ]
  },
  {
   "cell_type": "code",
   "execution_count": 17,
   "id": "f18f1fa1",
   "metadata": {},
   "outputs": [
    {
     "data": {
      "text/plain": [
       "1    37.9\n",
       "2    42.2\n",
       "3    47.3\n",
       "4    54.8\n",
       "5    43.1\n",
       "Name: house price of unit area, dtype: float64"
      ]
     },
     "execution_count": 17,
     "metadata": {},
     "output_type": "execute_result"
    }
   ],
   "source": [
    "y.head()"
   ]
  },
  {
   "cell_type": "code",
   "execution_count": 18,
   "id": "2f60445d",
   "metadata": {},
   "outputs": [],
   "source": [
    "X = X.to_numpy(dtype=float)\n",
    "y = y.to_numpy(dtype=float)"
   ]
  },
  {
   "cell_type": "code",
   "execution_count": 19,
   "id": "ac4fb3db",
   "metadata": {},
   "outputs": [
    {
     "data": {
      "text/plain": [
       "array([[2.0120000e+03, 1.1000000e+01, 3.2000000e+01, ..., 1.0000000e+01,\n",
       "        2.4982980e+01, 1.2154024e+02],\n",
       "       [2.0120000e+03, 1.1000000e+01, 1.9500000e+01, ..., 9.0000000e+00,\n",
       "        2.4980340e+01, 1.2153951e+02],\n",
       "       [2.0130000e+03, 7.0000000e+00, 1.3300000e+01, ..., 5.0000000e+00,\n",
       "        2.4987460e+01, 1.2154391e+02],\n",
       "       ...,\n",
       "       [2.0130000e+03, 3.0000000e+00, 1.8800000e+01, ..., 7.0000000e+00,\n",
       "        2.4979230e+01, 1.2153986e+02],\n",
       "       [2.0130000e+03, 1.0000000e+00, 8.1000000e+00, ..., 5.0000000e+00,\n",
       "        2.4966740e+01, 1.2154067e+02],\n",
       "       [2.0130000e+03, 6.0000000e+00, 6.5000000e+00, ..., 9.0000000e+00,\n",
       "        2.4974330e+01, 1.2154310e+02]])"
      ]
     },
     "execution_count": 19,
     "metadata": {},
     "output_type": "execute_result"
    }
   ],
   "source": [
    "X"
   ]
  },
  {
   "cell_type": "code",
   "execution_count": 20,
   "id": "3f31745d",
   "metadata": {},
   "outputs": [
    {
     "data": {
      "text/plain": [
       "array([ 37.9,  42.2,  47.3,  54.8,  43.1,  32.1,  40.3,  46.7,  18.8,\n",
       "        22.1,  41.4,  58.1,  39.3,  23.8,  34.3,  50.5,  70.1,  37.4,\n",
       "        42.3,  47.7,  29.3,  51.6,  24.6,  47.9,  38.8,  27. ,  56.2,\n",
       "        33.6,  47. ,  57.1,  22.1,  25. ,  34.2,  49.3,  55.1,  27.3,\n",
       "        22.9,  25.3,  47.7,  46.2,  15.9,  18.2,  34.7,  34.1,  53.9,\n",
       "        38.3,  42. ,  61.5,  13.4,  13.2,  44.2,  20.7,  27. ,  38.9,\n",
       "        51.7,  13.7,  41.9,  53.5,  22.6,  42.4,  21.3,  63.2,  27.7,\n",
       "        55. ,  25.3,  44.3,  50.7,  56.8,  36.2,  42. ,  59. ,  40.8,\n",
       "        36.3,  20. ,  54.4,  29.5,  36.8,  25.6,  29.8,  26.5,  40.3,\n",
       "        36.8,  48.1,  17.7,  43.7,  50.8,  27. ,  18.3,  48. ,  25.3,\n",
       "        45.4,  43.2,  21.8,  16.1,  41. ,  51.8,  59.5,  34.6,  51. ,\n",
       "        62.2,  38.2,  32.9,  54.4,  45.7,  30.5,  71. ,  47.1,  26.6,\n",
       "        34.1,  28.4,  51.6,  39.4,  23.1,   7.6,  53.3,  46.4,  12.2,\n",
       "        13. ,  30.6,  59.6,  31.3,  48. ,  32.5,  45.5,  57.4,  48.6,\n",
       "        62.9,  55. ,  60.7,  41. ,  37.5,  30.7,  37.5,  39.5,  42.2,\n",
       "        20.8,  46.8,  47.4,  43.5,  42.5,  51.4,  28.9,  37.5,  40.1,\n",
       "        28.4,  45.5,  52.2,  43.2,  45.1,  39.7,  48.5,  44.7,  28.9,\n",
       "        40.9,  20.7,  15.6,  18.3,  35.6,  39.4,  37.4,  57.8,  39.6,\n",
       "        11.6,  55.5,  55.2,  30.6,  73.6,  43.4,  37.4,  23.5,  14.4,\n",
       "        58.8,  58.1,  35.1,  45.2,  36.5,  19.2,  42. ,  36.7,  42.6,\n",
       "        15.5,  55.9,  23.6,  18.8,  21.8,  21.5,  25.7,  22. ,  44.3,\n",
       "        20.5,  42.3,  37.8,  42.7,  49.3,  29.3,  34.6,  36.6,  48.2,\n",
       "        39.1,  31.6,  25.5,  45.9,  31.5,  46.1,  26.6,  21.4,  44. ,\n",
       "        34.2,  26.2,  40.9,  52.2,  43.5,  31.1,  58. ,  20.9,  48.1,\n",
       "        39.7,  40.8,  43.8,  40.2,  78.3,  38.5,  48.5,  42.3,  46. ,\n",
       "        49. ,  12.8,  40.2,  46.6,  19. ,  33.4,  14.7,  17.4,  32.4,\n",
       "        23.9,  39.3,  61.9,  39. ,  40.6,  29.7,  28.8,  41.4,  33.4,\n",
       "        48.2,  21.7,  40.8,  40.6,  23.1,  22.3,  15. ,  30. ,  13.8,\n",
       "        52.7,  25.9,  51.8,  17.4,  26.5,  43.9,  63.3,  28.8,  30.7,\n",
       "        24.4,  53. ,  31.7,  40.6,  38.1,  23.7,  41.1,  40.1,  23. ,\n",
       "       117.5,  26.5,  40.5,  29.3,  41. ,  49.7,  34. ,  27.7,  44. ,\n",
       "        31.1,  45.4,  44.8,  25.6,  23.5,  34.4,  55.3,  56.3,  32.9,\n",
       "        51. ,  44.5,  37. ,  54.4,  24.5,  42.5,  38.1,  21.8,  34.1,\n",
       "        28.5,  16.7,  46.1,  36.9,  35.7,  23.2,  38.4,  29.4,  55. ,\n",
       "        50.2,  24.7,  53. ,  19.1,  24.7,  42.2,  78. ,  42.8,  41.6,\n",
       "        27.3,  42. ,  37.5,  49.8,  26.9,  18.6,  37.7,  33.1,  42.5,\n",
       "        31.3,  38.1,  62.1,  36.7,  23.6,  19.2,  12.8,  15.6,  39.6,\n",
       "        38.4,  22.8,  36.5,  35.6,  30.9,  36.3,  50.4,  42.9,  37. ,\n",
       "        53.5,  46.6,  41.2,  37.9,  30.8,  11.2,  53.7,  47. ,  42.3,\n",
       "        28.6,  25.7,  31.3,  30.1,  60.7,  45.3,  44.9,  45.1,  24.7,\n",
       "        47.1,  63.3,  40. ,  48. ,  33.1,  29.5,  24.8,  20.9,  43.1,\n",
       "        22.8,  42.1,  51.7,  41.5,  52.2,  49.5,  23.8,  30.5,  56.8,\n",
       "        37.4,  69.7,  53.3,  47.3,  29.3,  40.3,  12.9,  46.6,  55.3,\n",
       "        25.6,  27.3,  67.7,  38.6,  31.3,  35.3,  40.3,  24.7,  42.5,\n",
       "        31.9,  32.2,  23. ,  37.3,  35.5,  27.7,  28.5,  39.7,  41.2,\n",
       "        37.2,  40.5,  22.3,  28.1,  15.4,  50. ,  40.6,  52.5,  63.9])"
      ]
     },
     "execution_count": 20,
     "metadata": {},
     "output_type": "execute_result"
    }
   ],
   "source": [
    "y"
   ]
  },
  {
   "cell_type": "markdown",
   "id": "9bf46fde",
   "metadata": {},
   "source": [
    "**Normalizing the dataset**"
   ]
  },
  {
   "cell_type": "code",
   "execution_count": 21,
   "id": "2e3b62a8",
   "metadata": {},
   "outputs": [],
   "source": [
    "X = X / np.linalg.norm(X)\n",
    "y = y / np.linalg.norm(y)"
   ]
  },
  {
   "cell_type": "code",
   "execution_count": 22,
   "id": "e98b1e47",
   "metadata": {},
   "outputs": [
    {
     "data": {
      "text/plain": [
       "array([[3.78350174e-02, 2.06851487e-04, 6.01749780e-04, ...,\n",
       "        1.88046806e-04, 4.69796960e-04, 2.28552540e-03],\n",
       "       [3.78350174e-02, 2.06851487e-04, 3.66691272e-04, ...,\n",
       "        1.69242126e-04, 4.69747316e-04, 2.28551167e-03],\n",
       "       [3.78538221e-02, 1.31632764e-04, 2.50102252e-04, ...,\n",
       "        9.40234032e-05, 4.69881205e-04, 2.28559441e-03],\n",
       "       ...,\n",
       "       [3.78538221e-02, 5.64140419e-05, 3.53527996e-04, ...,\n",
       "        1.31632764e-04, 4.69726443e-04, 2.28551825e-03],\n",
       "       [3.78538221e-02, 1.88046806e-05, 1.52317913e-04, ...,\n",
       "        9.40234032e-05, 4.69491572e-04, 2.28553348e-03],\n",
       "       [3.78538221e-02, 1.12828084e-04, 1.22230424e-04, ...,\n",
       "        1.69242126e-04, 4.69634300e-04, 2.28557918e-03]])"
      ]
     },
     "execution_count": 22,
     "metadata": {},
     "output_type": "execute_result"
    }
   ],
   "source": [
    "X"
   ]
  },
  {
   "cell_type": "code",
   "execution_count": 23,
   "id": "8910477d",
   "metadata": {},
   "outputs": [
    {
     "data": {
      "text/plain": [
       "array([0.04617646, 0.05141548, 0.0576292 , 0.06676702, 0.05251202,\n",
       "       0.03910988, 0.04910057, 0.05689817, 0.02290547, 0.02692612,\n",
       "       0.05044078, 0.07078766, 0.04788219, 0.02899736, 0.04179031,\n",
       "       0.061528  , 0.08540818, 0.04556727, 0.05153732, 0.05811655,\n",
       "       0.03569843, 0.06286822, 0.02997206, 0.05836022, 0.047273  ,\n",
       "       0.03289616, 0.06847275, 0.04093744, 0.05726369, 0.06956929,\n",
       "       0.02692612, 0.03045941, 0.04166847, 0.06006595, 0.06713253,\n",
       "       0.03326167, 0.02790082, 0.03082492, 0.05811655, 0.05628899,\n",
       "       0.01937218, 0.02217445, 0.04227766, 0.04154663, 0.06567048,\n",
       "       0.04666381, 0.0511718 , 0.07493014, 0.01632624, 0.01608257,\n",
       "       0.05385223, 0.02522039, 0.03289616, 0.04739484, 0.06299005,\n",
       "       0.01669176, 0.05104997, 0.06518313, 0.0275353 , 0.05165916,\n",
       "       0.02595142, 0.07700138, 0.03374902, 0.0670107 , 0.03082492,\n",
       "       0.05397407, 0.06177168, 0.06920377, 0.04410522, 0.0511718 ,\n",
       "       0.0718842 , 0.04970975, 0.04422706, 0.02436753, 0.06627967,\n",
       "       0.0359421 , 0.04483625, 0.03119043, 0.03630761, 0.03228697,\n",
       "       0.04910057, 0.04483625, 0.0586039 , 0.02156526, 0.05324304,\n",
       "       0.06189352, 0.03289616, 0.02229629, 0.05848206, 0.03082492,\n",
       "       0.05531428, 0.05263386, 0.0265606 , 0.01961586, 0.04995343,\n",
       "       0.06311189, 0.07249339, 0.04215582, 0.06213719, 0.07578301,\n",
       "       0.04654197, 0.04008458, 0.06627967, 0.0556798 , 0.03716048,\n",
       "       0.08650472, 0.05738552, 0.03240881, 0.04154663, 0.03460189,\n",
       "       0.06286822, 0.04800403, 0.02814449, 0.00925966, 0.06493946,\n",
       "       0.05653266, 0.01486419, 0.01583889, 0.03728231, 0.07261523,\n",
       "       0.03813518, 0.05848206, 0.03959723, 0.05543612, 0.0699348 ,\n",
       "       0.05921309, 0.07663587, 0.0670107 , 0.07395544, 0.04995343,\n",
       "       0.04568911, 0.03740415, 0.04568911, 0.04812586, 0.05141548,\n",
       "       0.02534223, 0.05702001, 0.05775104, 0.05299937, 0.05178099,\n",
       "       0.06262454, 0.03521108, 0.04568911, 0.04885689, 0.03460189,\n",
       "       0.05543612, 0.06359924, 0.05263386, 0.05494877, 0.04836954,\n",
       "       0.05909125, 0.05446142, 0.03521108, 0.04983159, 0.02522039,\n",
       "       0.01900667, 0.02229629, 0.0433742 , 0.04800403, 0.04556727,\n",
       "       0.07042215, 0.0482477 , 0.01413317, 0.06761988, 0.06725437,\n",
       "       0.03728231, 0.0896725 , 0.05287753, 0.04556727, 0.02863184,\n",
       "       0.01754462, 0.07164053, 0.07078766, 0.04276501, 0.05507061,\n",
       "       0.04447074, 0.02339283, 0.0511718 , 0.04471441, 0.05190283,\n",
       "       0.01888483, 0.06810724, 0.02875368, 0.02290547, 0.0265606 ,\n",
       "       0.02619509, 0.03131227, 0.02680428, 0.05397407, 0.02497671,\n",
       "       0.05153732, 0.04605462, 0.05202467, 0.06006595, 0.03569843,\n",
       "       0.04215582, 0.04459257, 0.05872574, 0.04763851, 0.03850069,\n",
       "       0.0310686 , 0.05592347, 0.03837885, 0.05616715, 0.03240881,\n",
       "       0.02607325, 0.05360856, 0.04166847, 0.03192146, 0.04983159,\n",
       "       0.06359924, 0.05299937, 0.0378915 , 0.07066583, 0.02546406,\n",
       "       0.0586039 , 0.04836954, 0.04970975, 0.05336488, 0.04897873,\n",
       "       0.09539886, 0.04690749, 0.05909125, 0.05153732, 0.05604531,\n",
       "       0.05970044, 0.01559522, 0.04897873, 0.05677634, 0.02314915,\n",
       "       0.04069377, 0.01791013, 0.02119975, 0.03947539, 0.02911919,\n",
       "       0.04788219, 0.07541749, 0.04751668, 0.04946608, 0.03618578,\n",
       "       0.03508924, 0.05044078, 0.04069377, 0.05872574, 0.02643877,\n",
       "       0.04970975, 0.04946608, 0.02814449, 0.02716979, 0.01827564,\n",
       "       0.03655129, 0.01681359, 0.06420843, 0.03155595, 0.06311189,\n",
       "       0.02119975, 0.03228697, 0.05348672, 0.07712322, 0.03508924,\n",
       "       0.03740415, 0.02972838, 0.06457394, 0.03862253, 0.04946608,\n",
       "       0.04642014, 0.02887552, 0.05007527, 0.04885689, 0.02802265,\n",
       "       0.14315922, 0.03228697, 0.04934424, 0.03569843, 0.04995343,\n",
       "       0.0605533 , 0.04142479, 0.03374902, 0.05360856, 0.0378915 ,\n",
       "       0.05531428, 0.05458326, 0.03119043, 0.02863184, 0.04191214,\n",
       "       0.06737621, 0.06859459, 0.04008458, 0.06213719, 0.05421775,\n",
       "       0.04507992, 0.06627967, 0.02985022, 0.05178099, 0.04642014,\n",
       "       0.0265606 , 0.04154663, 0.03472372, 0.02034688, 0.05616715,\n",
       "       0.04495809, 0.04349603, 0.02826633, 0.04678565, 0.03582026,\n",
       "       0.0670107 , 0.06116249, 0.03009389, 0.06457394, 0.02327099,\n",
       "       0.03009389, 0.05141548, 0.09503335, 0.05214651, 0.05068445,\n",
       "       0.03326167, 0.0511718 , 0.04568911, 0.06067514, 0.03277432,\n",
       "       0.0226618 , 0.04593279, 0.04032826, 0.05178099, 0.03813518,\n",
       "       0.04642014, 0.07566117, 0.04471441, 0.02875368, 0.02339283,\n",
       "       0.01559522, 0.01900667, 0.0482477 , 0.04678565, 0.02777898,\n",
       "       0.04447074, 0.0433742 , 0.03764783, 0.04422706, 0.06140617,\n",
       "       0.05226834, 0.04507992, 0.06518313, 0.05677634, 0.0501971 ,\n",
       "       0.04617646, 0.03752599, 0.01364581, 0.06542681, 0.05726369,\n",
       "       0.05153732, 0.03484556, 0.03131227, 0.03813518, 0.03667313,\n",
       "       0.07395544, 0.05519245, 0.0547051 , 0.05494877, 0.03009389,\n",
       "       0.05738552, 0.07712322, 0.04873505, 0.05848206, 0.04032826,\n",
       "       0.0359421 , 0.03021573, 0.02546406, 0.05251202, 0.02777898,\n",
       "       0.05129364, 0.06299005, 0.05056262, 0.06359924, 0.06030963,\n",
       "       0.02899736, 0.03716048, 0.06920377, 0.04556727, 0.08492083,\n",
       "       0.06493946, 0.0576292 , 0.03569843, 0.04910057, 0.01571705,\n",
       "       0.05677634, 0.06737621, 0.03119043, 0.03326167, 0.08248408,\n",
       "       0.04702933, 0.03813518, 0.04300868, 0.04910057, 0.03009389,\n",
       "       0.05178099, 0.0388662 , 0.03923172, 0.02802265, 0.04544544,\n",
       "       0.04325236, 0.03374902, 0.03472372, 0.04836954, 0.0501971 ,\n",
       "       0.0453236 , 0.04934424, 0.02716979, 0.03423637, 0.018763  ,\n",
       "       0.06091882, 0.04946608, 0.06396476, 0.07785425])"
      ]
     },
     "execution_count": 23,
     "metadata": {},
     "output_type": "execute_result"
    }
   ],
   "source": [
    "y"
   ]
  },
  {
   "cell_type": "markdown",
   "id": "8590a785",
   "metadata": {},
   "source": [
    "## MLP - BP and SDGM"
   ]
  },
  {
   "cell_type": "code",
   "execution_count": 24,
   "id": "1c2453b6",
   "metadata": {},
   "outputs": [],
   "source": [
    "class MLP_regressor(object):\n",
    "    def __init__(self):\n",
    "        # parameters\n",
    "        self.inputSize = 7 # number of input attributes or features\n",
    "        self.hiddenSize_1 = 10\n",
    "        self.hiddenSize_2 = 5\n",
    "        self.outputSize = 1\n",
    "        \n",
    "        # weights\n",
    "        self.W1 = np.random.randn(self.inputSize, self.hiddenSize_1) # (7x10) weight matrix from input to hidden layer 1\n",
    "        self.W2 = np.random.randn(self.hiddenSize_1, self.hiddenSize_2) # (10x5) weight matrix from hidden layer 1 to hidden layer 2\n",
    "        self.W3 = np.random.randn(self.hiddenSize_2, self.outputSize) # (5x1) weight matrix from hidden layer2 to output layer\n",
    "        \n",
    "        # old values\n",
    "        self.delta_OW1 = np.zeros((self.inputSize, self.hiddenSize_1))\n",
    "        self.delta_OW2 = np.zeros((self.hiddenSize_1, self.hiddenSize_2))\n",
    "        self.delta_OW3 = np.zeros((self.hiddenSize_2, self.outputSize))\n",
    "        \n",
    "        # momentum\n",
    "        self.alpha = 0.9\n",
    "        # Learning rate\n",
    "        self.eta1 = 0.1\n",
    "        self.eta2 = 0.1\n",
    "        self.eta3 = 0.1\n",
    "        \n",
    "        \n",
    "    def feedForward(self, X):\n",
    "        #forward propogation through the network\n",
    "        self.z = np.dot(X, self.W1) #dot product of X (input) and first set of weights (7x10)\n",
    "        self.z2 = self.sigmoid(self.z) #activation function\n",
    "        \n",
    "        self.z3 = np.dot(self.z2, self.W2) #dot product of hidden layer (z2) and second set of weights (10x5)\n",
    "        self.z4 = self.sigmoid(self.z3) #activation function\n",
    "        \n",
    "        self.z5 = np.dot(self.z4, self.W3) #dot product of hidden layer (z4) and third set of weights (5x1)\n",
    "        \n",
    "        output = self.sigmoid(self.z5)\n",
    "        return output\n",
    "        \n",
    "    def sigmoid(self, s, deriv=False):\n",
    "        if (deriv == True):\n",
    "            return s * (1 - s) # derivation of sigmoid function\n",
    "        return 1/(1 + np.exp(-s))\n",
    "    \n",
    "    def backward(self, X, y, output):\n",
    "        # backward propogate through the network\n",
    "        \n",
    "        self.output_error = y - output # error in output\n",
    "        self.output_delta = self.output_error * self.sigmoid(output, deriv=True)\n",
    "        \n",
    "        self.z4_error = self.z4.T.dot(self.output_delta) #z4 error: how much our hidden layer weights contribute to output error\n",
    "        self.z4_delta = self.z4_error.dot(self.sigmoid(self.z4, deriv=True)) #applying derivative of sigmoid to z4 error\n",
    "        \n",
    "        self.z2_error = self.z2.T.dot(self.output_delta) #z2 error: how much our hidden layer weights contribute to output error\n",
    "        self.z2_delta = self.z2_error.dot(self.sigmoid(self.z2, deriv=True)) #applying derivative of sigmoid to z2 error\n",
    "        \n",
    "        # SDGM\n",
    "        self.delta_W1 = self.eta1 * self.z2_delta.dot(self.z2.T)\n",
    "        self.delta_W2 = self.eta2 * self.z4_delta.dot(self.z4.T)\n",
    "        self.delta_W3 = self.eta3 * self.output_delta.dot(output)\n",
    "        \n",
    "        self.delta_W1.resize(self.W1.shape)\n",
    "        self.delta_W2.resize(self.W2.shape)\n",
    "        self.delta_W3.resize(self.W3.shape)\n",
    "        \n",
    "        # Updating the weights\n",
    "        W1_temp = self.W1 + self.alpha * self.delta_OW1 + self.delta_W1\n",
    "        W2_temp = self.W2 + self.alpha * self.delta_OW2 + self.delta_W2\n",
    "        W3_temp = self.W3 + self.alpha * self.delta_OW3 + self.delta_W3\n",
    "        \n",
    "        self.delta_OW1 = self.delta_W1\n",
    "        self.delta_OW2 = self.delta_W2\n",
    "        self.delta_OW3 = self.delta_W3\n",
    "        \n",
    "        self.W1 = W1_temp\n",
    "        self.W2 = W2_temp\n",
    "        self.W3 = W3_temp\n",
    "        \n",
    "    def train(self, X, y):\n",
    "        # Feed forward\n",
    "        output = self.feedForward(X)\n",
    "        # Back Propagation with SDGM\n",
    "        self.backward(X, y, output)\n",
    "        "
   ]
  },
  {
   "cell_type": "code",
   "execution_count": 25,
   "id": "b2b442fe",
   "metadata": {},
   "outputs": [],
   "source": [
    "NN = MLP_regressor() # Class object"
   ]
  },
  {
   "cell_type": "markdown",
   "id": "9a5ee49c",
   "metadata": {},
   "source": [
    "## Training the model"
   ]
  },
  {
   "cell_type": "code",
   "execution_count": 26,
   "id": "804180cb",
   "metadata": {},
   "outputs": [
    {
     "name": "stderr",
     "output_type": "stream",
     "text": [
      "C:\\Users\\Dell\\AppData\\Local\\Temp/ipykernel_12436/2801137036.py:41: RuntimeWarning: overflow encountered in exp\n",
      "  return 1/(1 + np.exp(-s))\n"
     ]
    },
    {
     "name": "stdout",
     "output_type": "stream",
     "text": [
      "Completed 120 epochs\n",
      "Loss: 0.010971438946515253\n",
      "Completed 240 epochs\n",
      "Loss: 0.010085608705416825\n",
      "Completed 360 epochs\n",
      "Loss: 0.010003394148459695\n",
      "Completed 480 epochs\n",
      "Loss: 0.009993633835175477\n",
      "Completed 600 epochs\n",
      "Loss: 0.009994319637059372\n",
      "Completed 720 epochs\n",
      "Loss: 0.009994296300350805\n",
      "Completed 840 epochs\n",
      "Loss: 0.009993484676460853\n",
      "Completed 960 epochs\n",
      "Loss: 0.009993483849531882\n",
      "Loss: 0.00999349470994776\n"
     ]
    }
   ],
   "source": [
    "num_Epoch = 1000 # number of epochs\n",
    "epoch = 1 # counter variable\n",
    "mse_thres = 1e-3 # Threshold for mean square error\n",
    "mse_train = float('inf') # initializing MSE as infinity\n",
    "training_mse_error = [] # saving MSE for each epoch\n",
    "\n",
    "while mse_train > mse_thres and epoch <= num_Epoch:\n",
    "    # Shuffling the dataset before each epoch\n",
    "    p = np.random.permutation(X.shape[0])\n",
    "    X = X[p]\n",
    "    y = y[p]\n",
    "    for i in range(0,X.shape[0]): # number of iterations in each epoch will be equal to number of samples\n",
    "        NN.train(X[:i], y[:i]) # input in batches\n",
    "    if epoch % 120 == 0: # after every 120 epochs, decreasing the learning and making momentum more closer to one\n",
    "        print('Completed', epoch, 'epochs')\n",
    "        NN.eta1 = NN.eta1/10\n",
    "        NN.eta2 = NN.eta2/10\n",
    "        NN.eta3 = NN.eta3/10\n",
    "        NN.alpha = 0.9 + NN.alpha/10\n",
    "        print(\"Loss: \" + str(mse_train)) # Printing loss after every 120 epochs\n",
    "    mse_train = np.mean(np.square(y[:i] - NN.feedForward(X[:i]))) # calculare MSE after each epoch\n",
    "    training_mse_error.append(mse_train) # saving MSE\n",
    "    epoch += 1\n",
    "    \n",
    "print(\"Loss: \" + str(mse_train))"
   ]
  },
  {
   "cell_type": "markdown",
   "id": "714e3f69",
   "metadata": {},
   "source": [
    "## Learning Curve"
   ]
  },
  {
   "cell_type": "code",
   "execution_count": 28,
   "id": "1fd91091",
   "metadata": {},
   "outputs": [
    {
     "data": {
      "image/png": "[encoded data removed]",
      "text/plain": [
       "<Figure size 720x576 with 1 Axes>"
      ]
     },
     "metadata": {
      "needs_background": "light"
     },
     "output_type": "display_data"
    }
   ],
   "source": [
    "plt.figure(figsize=(10,8))\n",
    "plt.plot([i for i in range(num_Epoch)], training_mse_error)\n",
    "plt.xlabel(\"epochs\")\n",
    "plt.ylabel(\"MSE\")\n",
    "plt.show()"
   ]
  }
 ],
 "metadata": {
  "kernelspec": {
   "display_name": "Python 3 (ipykernel)",
   "language": "python",
   "name": "python3"
  },
  "language_info": {
   "codemirror_mode": {
    "name": "ipython",
    "version": 3
   },
   "file_extension": ".py",
   "mimetype": "text/x-python",
   "name": "python",
   "nbconvert_exporter": "python",
   "pygments_lexer": "ipython3",
   "version": "3.8.12"
  }
 },
 "nbformat": 4,
 "nbformat_minor": 5
}
